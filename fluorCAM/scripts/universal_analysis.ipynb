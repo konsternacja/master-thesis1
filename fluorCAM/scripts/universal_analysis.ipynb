{
 "cells": [
  {
   "cell_type": "code",
   "execution_count": 33,
   "metadata": {},
   "outputs": [],
   "source": [
    "import os\n",
    "import glob\n",
    "\n",
    "import matplotlib.pyplot as plt\n",
    "import pandas as pd\n",
    "from scipy.stats import f_oneway\n",
    "import scipy.stats as stats"
   ]
  },
  {
   "cell_type": "code",
   "execution_count": 34,
   "metadata": {},
   "outputs": [],
   "source": [
    "measurements1 = '/home/konsternacja/Git/master-thesis1/fluorCAM/measurement1'\n",
    "measurements2 = '/home/konsternacja/Git/master-thesis1/fluorCAM/measurement2'\n",
    "measurements3 = '/home/konsternacja/Git/master-thesis1/fluorCAM/measurement3'"
   ]
  },
  {
   "cell_type": "code",
   "execution_count": 35,
   "metadata": {},
   "outputs": [],
   "source": [
    "def flatten_sum(matrix):\n",
    "    return sum(matrix, [])"
   ]
  },
  {
   "cell_type": "code",
   "execution_count": 36,
   "metadata": {},
   "outputs": [],
   "source": [
    "def combine_reports(directory_path):\n",
    "    \n",
    "    files = glob.glob(directory_path + '*.TXT')\n",
    "\n",
    "    # Initialize an empty list to store DataFrames\n",
    "    dfs = []\n",
    "    plant_list = []\n",
    "    inoculation_list = []\n",
    "\n",
    "    for file in files:\n",
    "        # Get the base name of the file without extension\n",
    "        base_name = os.path.splitext(os.path.basename(file))[0]\n",
    "    \n",
    "        # Read the file into a DataFrame\n",
    "        df = pd.read_csv(file, sep='\\t', skiprows=2, index_col=0)\n",
    "    \n",
    "        # Append the DataFrame to the list\n",
    "        dfs.append(df)\n",
    "    \n",
    "        # Add an entry to the group dictionary\n",
    "        if 'wteminus' in base_name:\n",
    "            plant_list.append(['WT'] * len(df.columns))\n",
    "            inoculation_list.append(['E-'] * len(df.columns))\n",
    "        elif 'wteplus' in base_name:\n",
    "            plant_list.append(['WT'] * len(df.columns))\n",
    "            inoculation_list.append(['E+'] * len(df.columns))\n",
    "        elif '70eminus' in base_name:\n",
    "            plant_list.append(['AT5G45470'] * len(df.columns))\n",
    "            inoculation_list.append(['E-'] * len(df.columns))\n",
    "        elif '70eplus' in base_name:\n",
    "            plant_list.append(['AT5G45470'] * len(df.columns))\n",
    "            inoculation_list.append(['E+'] * len(df.columns))\n",
    "        else:\n",
    "            plant_list.append([None] * len(df.columns))\n",
    "            inoculation_list.append([None] * len(df.columns))\n",
    "            \n",
    "    # Concatenate the DataFrames along the common column (Unnamed: 0)\n",
    "    result_df = pd.concat(dfs, ignore_index=True, axis=1)\n",
    "\n",
    "    plant_list_flat = flatten_sum(plant_list)\n",
    "    inoculation_list_flat = flatten_sum(inoculation_list)\n",
    "\n",
    "    # Convert the group_dict to a DataFrame and transpose it\n",
    "    plant_df_flat = pd.DataFrame(plant_list_flat)\n",
    "    inoculation_df_flat = pd.DataFrame(inoculation_list_flat)\n",
    "\n",
    "    # Transpose group_df_flat so it can be appended as a row\n",
    "    plant_df_flat = plant_df_flat.transpose()\n",
    "    inoculation_df_flat = inoculation_df_flat.transpose()\n",
    "\n",
    "    concatenated_df = pd.concat([result_df, plant_df_flat, inoculation_df_flat], ignore_index=True)\n",
    "    \n",
    "    # Read the file\n",
    "    file = pd.read_csv(directory_path + '70eminus1.TXT', sep='\\t', skiprows=2)\n",
    "\n",
    "    # Extract the index column\n",
    "    index_column = file['Unnamed: 0']\n",
    "\n",
    "    # Insert the index_column \n",
    "    df_for_analysis = concatenated_df.join(index_column)\n",
    "\n",
    "    df_for_analysis = df_for_analysis.T\n",
    "\n",
    "    # Set the last row as the header\n",
    "    df_for_analysis.columns = df_for_analysis.iloc[-1]\n",
    "\n",
    "    # Remove the last row\n",
    "    df_for_analysis = df_for_analysis.iloc[:-1]\n",
    "\n",
    "    \n",
    "    # Get the last and second last column names\n",
    "    last_column = df_for_analysis.columns[-1]\n",
    "    second_last_column = df_for_analysis.columns[-2]\n",
    "\n",
    "    # Rename the last and second last columns\n",
    "    df_for_analysis = df_for_analysis.rename(columns={last_column: 'inoculation', second_last_column: 'plant'})\n",
    "\n",
    "    # Save the concatenated DataFrame to a new TSV file\n",
    "    df_for_analysis.to_csv(directory_path + 'concatenated_file.tsv', sep='\\t', index=False)\n",
    "    return df_for_analysis"
   ]
  },
  {
   "cell_type": "code",
   "execution_count": 37,
   "metadata": {},
   "outputs": [],
   "source": [
    "df1 = combine_reports('/home/konsternacja/Git/master-thesis1/fluorCAM/measurement1/')\n",
    "df2 = combine_reports('/home/konsternacja/Git/master-thesis1/fluorCAM/measurement2/')\n",
    "df3 = combine_reports('/home/konsternacja/Git/master-thesis1/fluorCAM/measurement3/')"
   ]
  }
 ],
 "metadata": {
  "kernelspec": {
   "display_name": "fluorcum",
   "language": "python",
   "name": "python3"
  },
  "language_info": {
   "codemirror_mode": {
    "name": "ipython",
    "version": 3
   },
   "file_extension": ".py",
   "mimetype": "text/x-python",
   "name": "python",
   "nbconvert_exporter": "python",
   "pygments_lexer": "ipython3",
   "version": "3.11.5"
  }
 },
 "nbformat": 4,
 "nbformat_minor": 2
}
